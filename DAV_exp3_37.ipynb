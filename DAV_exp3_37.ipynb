{
  "nbformat": 4,
  "nbformat_minor": 0,
  "metadata": {
    "colab": {
      "provenance": []
    },
    "kernelspec": {
      "name": "ir",
      "display_name": "R"
    },
    "language_info": {
      "name": "R"
    }
  },
  "cells": [
    {
      "cell_type": "markdown",
      "source": [
        "Prerna Ladkani\n",
        "\n",
        "Roll:37,Div:D11AD"
      ],
      "metadata": {
        "id": "nXfvZWXqgB38"
      }
    },
    {
      "cell_type": "markdown",
      "source": [
        "DAV Eperiment 3"
      ],
      "metadata": {
        "id": "IIxCIeC4gBus"
      }
    },
    {
      "cell_type": "markdown",
      "source": [
        "Aim: Multiple Linear Regression in Python and R"
      ],
      "metadata": {
        "id": "LmvMgxXxgBn2"
      }
    },
    {
      "cell_type": "markdown",
      "source": [
        "Python"
      ],
      "metadata": {
        "id": "fsvNbYjviQQf"
      }
    },
    {
      "cell_type": "markdown",
      "source": [
        "Task to be performed :\n",
        "1.List the packages to be used for Multiple Linear Regression in Python\n",
        "\n",
        "2.Download the dataset from UCI Repository / Kaggle\n",
        "\n",
        "-- Load data into Google Colab\n",
        "\n",
        "-- Display the summary of the dataset\n",
        "\n",
        "3.Create a model and fit it\n",
        "\n",
        "4.Get the values : Coefficient of Determination, Intercept and Coefficients\n",
        "\n",
        "5.Predict the response\n",
        "\n",
        "6.Visualize the results with a graph\n",
        "\n",
        "7.Repeat the steps 2 to 6 using R libraries\n",
        "\n",
        "8.Prepare a Colab Notebook with the Aim, Tasks performed, Program, Output, and Conclusion and upload the Notebook in your Github Repositiry.\n",
        "\n",
        "9.Prepare a handwritten wrtieup with Aim, Theory and Conclusion."
      ],
      "metadata": {
        "id": "ZEU1QRhjjibt"
      }
    },
    {
      "cell_type": "code",
      "execution_count": 1,
      "metadata": {
        "id": "5LVeSK0lf2Zc"
      },
      "outputs": [],
      "source": [
        "# importing modules and packages\n",
        "import pandas as pd\n",
        "import numpy as np\n",
        "import matplotlib.pyplot as plt\n",
        "import seaborn as sns\n",
        "from sklearn.model_selection import train_test_split\n",
        "from sklearn.linear_model import LinearRegression\n",
        "from sklearn.metrics import mean_squared_error, mean_absolute_error\n",
        "from sklearn import preprocessing\n"
      ]
    },
    {
      "cell_type": "code",
      "source": [
        "# importing data\n",
        "df = pd.read_csv('Real-estate1.csv')\n",
        "df.drop('No', inplace = True,axis=1)\n",
        "\n",
        "print(df.head())\n",
        "print(df.columns)\n"
      ],
      "metadata": {
        "colab": {
          "base_uri": "https://localhost:8080/"
        },
        "id": "Es3upRAXhMEe",
        "outputId": "ef7ba3d4-2cab-43f1-b666-ebe8dc541662"
      },
      "execution_count": 3,
      "outputs": [
        {
          "output_type": "stream",
          "name": "stdout",
          "text": [
            "   X1 transaction date  X2 house age  X3 distance to the nearest MRT station  \\\n",
            "0             2012.917          32.0                                84.87882   \n",
            "1             2012.917          19.5                               306.59470   \n",
            "2             2013.583          13.3                               561.98450   \n",
            "3             2013.500          13.3                               561.98450   \n",
            "4             2012.833           5.0                               390.56840   \n",
            "\n",
            "   X4 number of convenience stores  X5 latitude  X6 longitude  \\\n",
            "0                               10     24.98298     121.54024   \n",
            "1                                9     24.98034     121.53951   \n",
            "2                                5     24.98746     121.54391   \n",
            "3                                5     24.98746     121.54391   \n",
            "4                                5     24.97937     121.54245   \n",
            "\n",
            "   Y house price of unit area  \n",
            "0                        37.9  \n",
            "1                        42.2  \n",
            "2                        47.3  \n",
            "3                        54.8  \n",
            "4                        43.1  \n",
            "Index(['X1 transaction date', 'X2 house age',\n",
            "       'X3 distance to the nearest MRT station',\n",
            "       'X4 number of convenience stores', 'X5 latitude', 'X6 longitude',\n",
            "       'Y house price of unit area'],\n",
            "      dtype='object')\n"
          ]
        }
      ]
    },
    {
      "cell_type": "code",
      "source": [
        "# plotting a scatterplot\n",
        "sns.scatterplot(x='X4 number of convenience stores',\n",
        "\t\t\t\ty='Y house price of unit area', data=df)\n"
      ],
      "metadata": {
        "colab": {
          "base_uri": "https://localhost:8080/",
          "height": 467
        },
        "id": "liCvA0a7hkwZ",
        "outputId": "ee4c2ffe-ed20-43fc-9b57-06d29c5b935d"
      },
      "execution_count": 4,
      "outputs": [
        {
          "output_type": "execute_result",
          "data": {
            "text/plain": [
              "<Axes: xlabel='X4 number of convenience stores', ylabel='Y house price of unit area'>"
            ]
          },
          "metadata": {},
          "execution_count": 4
        },
        {
          "output_type": "display_data",
          "data": {
            "text/plain": [
              "<Figure size 640x480 with 1 Axes>"
            ],
            "image/png": "[encoded data removed]"
          },
          "metadata": {}
        }
      ]
    },
    {
      "cell_type": "code",
      "source": [
        "# creating feature variables\n",
        "X = df.drop('Y house price of unit area',axis= 1)\n",
        "y = df['Y house price of unit area']\n",
        "print(X)\n",
        "print(y)\n"
      ],
      "metadata": {
        "colab": {
          "base_uri": "https://localhost:8080/"
        },
        "id": "zYv-Uvy8hqbX",
        "outputId": "21580981-ded3-4744-ff87-efceedb63085"
      },
      "execution_count": 5,
      "outputs": [
        {
          "output_type": "stream",
          "name": "stdout",
          "text": [
            "     X1 transaction date  X2 house age  \\\n",
            "0               2012.917          32.0   \n",
            "1               2012.917          19.5   \n",
            "2               2013.583          13.3   \n",
            "3               2013.500          13.3   \n",
            "4               2012.833           5.0   \n",
            "..                   ...           ...   \n",
            "409             2013.000          13.7   \n",
            "410             2012.667           5.6   \n",
            "411             2013.250          18.8   \n",
            "412             2013.000           8.1   \n",
            "413             2013.500           6.5   \n",
            "\n",
            "     X3 distance to the nearest MRT station  X4 number of convenience stores  \\\n",
            "0                                  84.87882                               10   \n",
            "1                                 306.59470                                9   \n",
            "2                                 561.98450                                5   \n",
            "3                                 561.98450                                5   \n",
            "4                                 390.56840                                5   \n",
            "..                                      ...                              ...   \n",
            "409                              4082.01500                                0   \n",
            "410                                90.45606                                9   \n",
            "411                               390.96960                                7   \n",
            "412                               104.81010                                5   \n",
            "413                                90.45606                                9   \n",
            "\n",
            "     X5 latitude  X6 longitude  \n",
            "0       24.98298     121.54024  \n",
            "1       24.98034     121.53951  \n",
            "2       24.98746     121.54391  \n",
            "3       24.98746     121.54391  \n",
            "4       24.97937     121.54245  \n",
            "..           ...           ...  \n",
            "409     24.94155     121.50381  \n",
            "410     24.97433     121.54310  \n",
            "411     24.97923     121.53986  \n",
            "412     24.96674     121.54067  \n",
            "413     24.97433     121.54310  \n",
            "\n",
            "[414 rows x 6 columns]\n",
            "0      37.9\n",
            "1      42.2\n",
            "2      47.3\n",
            "3      54.8\n",
            "4      43.1\n",
            "       ... \n",
            "409    15.4\n",
            "410    50.0\n",
            "411    40.6\n",
            "412    52.5\n",
            "413    63.9\n",
            "Name: Y house price of unit area, Length: 414, dtype: float64\n"
          ]
        }
      ]
    },
    {
      "cell_type": "code",
      "source": [
        "# creating train and test sets\n",
        "X_train, X_test, y_train, y_test = train_test_split(\n",
        "\tX, y, test_size=0.3, random_state=101)\n"
      ],
      "metadata": {
        "id": "uXyWM2UHhuWX"
      },
      "execution_count": 6,
      "outputs": []
    },
    {
      "cell_type": "code",
      "source": [
        "# creating a regression model\n",
        "model = LinearRegression()\n"
      ],
      "metadata": {
        "id": "6-Y8RAKlh1Q3"
      },
      "execution_count": 7,
      "outputs": []
    },
    {
      "cell_type": "code",
      "source": [
        "# fitting the model\n",
        "model.fit(X_train,y_train)\n"
      ],
      "metadata": {
        "colab": {
          "base_uri": "https://localhost:8080/",
          "height": 75
        },
        "id": "zctCXf3Th5KW",
        "outputId": "d7997671-1eb9-44d5-dc49-741557aedb59"
      },
      "execution_count": 8,
      "outputs": [
        {
          "output_type": "execute_result",
          "data": {
            "text/plain": [
              "LinearRegression()"
            ],
            "text/html": [
              "<style>#sk-container-id-1 {color: black;background-color: white;}#sk-container-id-1 pre{padding: 0;}#sk-container-id-1 div.sk-toggleable {background-color: white;}#sk-container-id-1 label.sk-toggleable__label {cursor: pointer;display: block;width: 100%;margin-bottom: 0;padding: 0.3em;box-sizing: border-box;text-align: center;}#sk-container-id-1 label.sk-toggleable__label-arrow:before {content: \"▸\";float: left;margin-right: 0.25em;color: #696969;}#sk-container-id-1 label.sk-toggleable__label-arrow:hover:before {color: black;}#sk-container-id-1 div.sk-estimator:hover label.sk-toggleable__label-arrow:before {color: black;}#sk-container-id-1 div.sk-toggleable__content {max-height: 0;max-width: 0;overflow: hidden;text-align: left;background-color: #f0f8ff;}#sk-container-id-1 div.sk-toggleable__content pre {margin: 0.2em;color: black;border-radius: 0.25em;background-color: #f0f8ff;}#sk-container-id-1 input.sk-toggleable__control:checked~div.sk-toggleable__content {max-height: 200px;max-width: 100%;overflow: auto;}#sk-container-id-1 input.sk-toggleable__control:checked~label.sk-toggleable__label-arrow:before {content: \"▾\";}#sk-container-id-1 div.sk-estimator input.sk-toggleable__control:checked~label.sk-toggleable__label {background-color: #d4ebff;}#sk-container-id-1 div.sk-label input.sk-toggleable__control:checked~label.sk-toggleable__label {background-color: #d4ebff;}#sk-container-id-1 input.sk-hidden--visually {border: 0;clip: rect(1px 1px 1px 1px);clip: rect(1px, 1px, 1px, 1px);height: 1px;margin: -1px;overflow: hidden;padding: 0;position: absolute;width: 1px;}#sk-container-id-1 div.sk-estimator {font-family: monospace;background-color: #f0f8ff;border: 1px dotted black;border-radius: 0.25em;box-sizing: border-box;margin-bottom: 0.5em;}#sk-container-id-1 div.sk-estimator:hover {background-color: #d4ebff;}#sk-container-id-1 div.sk-parallel-item::after {content: \"\";width: 100%;border-bottom: 1px solid gray;flex-grow: 1;}#sk-container-id-1 div.sk-label:hover label.sk-toggleable__label {background-color: #d4ebff;}#sk-container-id-1 div.sk-serial::before {content: \"\";position: absolute;border-left: 1px solid gray;box-sizing: border-box;top: 0;bottom: 0;left: 50%;z-index: 0;}#sk-container-id-1 div.sk-serial {display: flex;flex-direction: column;align-items: center;background-color: white;padding-right: 0.2em;padding-left: 0.2em;position: relative;}#sk-container-id-1 div.sk-item {position: relative;z-index: 1;}#sk-container-id-1 div.sk-parallel {display: flex;align-items: stretch;justify-content: center;background-color: white;position: relative;}#sk-container-id-1 div.sk-item::before, #sk-container-id-1 div.sk-parallel-item::before {content: \"\";position: absolute;border-left: 1px solid gray;box-sizing: border-box;top: 0;bottom: 0;left: 50%;z-index: -1;}#sk-container-id-1 div.sk-parallel-item {display: flex;flex-direction: column;z-index: 1;position: relative;background-color: white;}#sk-container-id-1 div.sk-parallel-item:first-child::after {align-self: flex-end;width: 50%;}#sk-container-id-1 div.sk-parallel-item:last-child::after {align-self: flex-start;width: 50%;}#sk-container-id-1 div.sk-parallel-item:only-child::after {width: 0;}#sk-container-id-1 div.sk-dashed-wrapped {border: 1px dashed gray;margin: 0 0.4em 0.5em 0.4em;box-sizing: border-box;padding-bottom: 0.4em;background-color: white;}#sk-container-id-1 div.sk-label label {font-family: monospace;font-weight: bold;display: inline-block;line-height: 1.2em;}#sk-container-id-1 div.sk-label-container {text-align: center;}#sk-container-id-1 div.sk-container {/* jupyter's `normalize.less` sets `[hidden] { display: none; }` but bootstrap.min.css set `[hidden] { display: none !important; }` so we also need the `!important` here to be able to override the default hidden behavior on the sphinx rendered scikit-learn.org. See: https://github.com/scikit-learn/scikit-learn/issues/21755 */display: inline-block !important;position: relative;}#sk-container-id-1 div.sk-text-repr-fallback {display: none;}</style><div id=\"sk-container-id-1\" class=\"sk-top-container\"><div class=\"sk-text-repr-fallback\"><pre>LinearRegression()</pre><b>In a Jupyter environment, please rerun this cell to show the HTML representation or trust the notebook. <br />On GitHub, the HTML representation is unable to render, please try loading this page with nbviewer.org.</b></div><div class=\"sk-container\" hidden><div class=\"sk-item\"><div class=\"sk-estimator sk-toggleable\"><input class=\"sk-toggleable__control sk-hidden--visually\" id=\"sk-estimator-id-1\" type=\"checkbox\" checked><label for=\"sk-estimator-id-1\" class=\"sk-toggleable__label sk-toggleable__label-arrow\">LinearRegression</label><div class=\"sk-toggleable__content\"><pre>LinearRegression()</pre></div></div></div></div></div>"
            ]
          },
          "metadata": {},
          "execution_count": 8
        }
      ]
    },
    {
      "cell_type": "code",
      "source": [
        "# making predictions\n",
        "predictions = model.predict(X_test)\n"
      ],
      "metadata": {
        "id": "OppvqjI6h_FQ"
      },
      "execution_count": 9,
      "outputs": []
    },
    {
      "cell_type": "code",
      "source": [
        "# model evaluation\n",
        "print(\n",
        "'mean_squared_error : ', mean_squared_error(y_test, predictions))\n",
        "print(\n",
        "'mean_absolute_error : ', mean_absolute_error(y_test, predictions))\n"
      ],
      "metadata": {
        "colab": {
          "base_uri": "https://localhost:8080/"
        },
        "id": "AV_M515WiDrG",
        "outputId": "ea4c1df7-ee02-4aef-9d0b-056b91b4b062"
      },
      "execution_count": 10,
      "outputs": [
        {
          "output_type": "stream",
          "name": "stdout",
          "text": [
            "mean_squared_error :  46.21179783492909\n",
            "mean_absolute_error :  5.392293684756193\n"
          ]
        }
      ]
    },
    {
      "cell_type": "code",
      "source": [
        "# getting the coefficient of determination (R²)\n",
        "r_squared = model.score(X_test, y_test)\n",
        "print('Coefficient of Determination (R²): ', r_squared)\n",
        "\n",
        "# getting the intercept\n",
        "intercept = model.intercept_\n",
        "print('Intercept: ', intercept)\n",
        "\n",
        "# getting the coefficients\n",
        "coefficients = model.coef_\n",
        "print('Coefficients: ', coefficients)\n"
      ],
      "metadata": {
        "colab": {
          "base_uri": "https://localhost:8080/"
        },
        "id": "N7Oyx3qni7ff",
        "outputId": "d1d2ee82-2078-4b89-a786-9678207800f5"
      },
      "execution_count": 11,
      "outputs": [
        {
          "output_type": "stream",
          "name": "stdout",
          "text": [
            "Coefficient of Determination (R²):  0.6509058479987158\n",
            "Intercept:  -18595.05503451969\n",
            "Coefficients:  [ 4.83926101e+00 -2.74749120e-01 -4.18860818e-03  1.18123112e+00\n",
            "  2.42384317e+02  2.33991349e+01]\n"
          ]
        }
      ]
    },
    {
      "cell_type": "code",
      "source": [
        "# Visualizing the results\n",
        "plt.scatter(y_test, predictions)\n",
        "plt.xlabel('Actual Y')\n",
        "plt.ylabel('Predicted Y')\n",
        "plt.title('Actual vs. Predicted Values')\n",
        "plt.show()\n"
      ],
      "metadata": {
        "colab": {
          "base_uri": "https://localhost:8080/",
          "height": 472
        },
        "id": "oIJFWSH3jSrH",
        "outputId": "f3455ce0-7e99-42d1-81ca-f453de1c8f38"
      },
      "execution_count": 12,
      "outputs": [
        {
          "output_type": "display_data",
          "data": {
            "text/plain": [
              "<Figure size 640x480 with 1 Axes>"
            ],
            "image/png": "[encoded data removed]"
          },
          "metadata": {}
        }
      ]
    },
    {
      "cell_type": "markdown",
      "source": [
        "R"
      ],
      "metadata": {
        "id": "zYQigFACj4s4"
      }
    },
    {
      "cell_type": "code",
      "source": [
        "# Multiple Linear Regression\n",
        "\n",
        "# Importing the dataset\n",
        "dataset = read.csv('data2.csv')\n",
        "\n",
        "# Encoding categorical data\n",
        "dataset$State = factor(dataset$State,\n",
        "\t\t\t\t\tlevels = c('New York', 'California', 'Florida'),\n",
        "\t\t\t\t\tlabels = c(1, 2, 3))\n",
        "dataset$State\n"
      ],
      "metadata": {
        "colab": {
          "base_uri": "https://localhost:8080/",
          "height": 52
        },
        "id": "HL4ksX-xnLsY",
        "outputId": "075a7557-49c8-4b8c-d295-1c0acdf82916"
      },
      "execution_count": 2,
      "outputs": [
        {
          "output_type": "display_data",
          "data": {
            "text/html": [
              "<style>\n",
              ".list-inline {list-style: none; margin:0; padding: 0}\n",
              ".list-inline>li {display: inline-block}\n",
              ".list-inline>li:not(:last-child)::after {content: \"\\00b7\"; padding: 0 .5ex}\n",
              "</style>\n",
              "<ol class=list-inline><li>1</li><li>2</li><li>3</li><li>1</li><li>3</li><li>1</li><li>2</li><li>3</li><li>1</li><li>2</li></ol>\n",
              "\n",
              "<details>\n",
              "\t<summary style=display:list-item;cursor:pointer>\n",
              "\t\t<strong>Levels</strong>:\n",
              "\t</summary>\n",
              "\t<style>\n",
              "\t.list-inline {list-style: none; margin:0; padding: 0}\n",
              "\t.list-inline>li {display: inline-block}\n",
              "\t.list-inline>li:not(:last-child)::after {content: \"\\00b7\"; padding: 0 .5ex}\n",
              "\t</style>\n",
              "\t<ol class=list-inline><li>'1'</li><li>'2'</li><li>'3'</li></ol>\n",
              "</details>"
            ],
            "text/markdown": "1. 1\n2. 2\n3. 3\n4. 1\n5. 3\n6. 1\n7. 2\n8. 3\n9. 1\n10. 2\n\n\n\n**Levels**: 1. '1'\n2. '2'\n3. '3'\n\n\n",
            "text/latex": "\\begin{enumerate*}\n\\item 1\n\\item 2\n\\item 3\n\\item 1\n\\item 3\n\\item 1\n\\item 2\n\\item 3\n\\item 1\n\\item 2\n\\end{enumerate*}\n\n\\emph{Levels}: \\begin{enumerate*}\n\\item '1'\n\\item '2'\n\\item '3'\n\\end{enumerate*}\n",
            "text/plain": [
              " [1] 1 2 3 1 3 1 2 3 1 2\n",
              "Levels: 1 2 3"
            ]
          },
          "metadata": {}
        }
      ]
    },
    {
      "cell_type": "code",
      "source": [
        "# Importing the dataset\n",
        "dataset <- read.csv('data2.csv')\n",
        "\n",
        "# Encoding categorical data\n",
        "dataset$State <- factor(dataset$State,\n",
        "                        levels = c('New York', 'California', 'Florida'),\n",
        "                        labels = c(1, 2, 3))\n",
        "\n",
        "# Splitting the dataset into the Training set and Test set\n",
        "install.packages('caTools')\n",
        "library(caTools)\n",
        "set.seed(123)\n",
        "split <- sample.split(dataset$Profit, SplitRatio = 0.8)\n",
        "training_set <- subset(dataset, split == TRUE)\n",
        "test_set <- subset(dataset, split == FALSE)\n",
        "\n",
        "# Fitting Multiple Linear Regression to the Training set\n",
        "regressor <- lm(formula = Profit ~ ., data = training_set)\n",
        "\n",
        "# Getting the Coefficient of Determination (R^2)\n",
        "r_squared <- summary(regressor)$r.squared\n",
        "cat('Coefficient of Determination (R²): ', r_squared, '\\n')\n",
        "\n",
        "# Getting the Intercept\n",
        "intercept <- coef(regressor)[1]\n",
        "cat('Intercept: ', intercept, '\\n')\n",
        "\n",
        "# Getting the Coefficients\n",
        "coefficients <- coef(regressor)[-1]  # excluding the intercept\n",
        "cat('Coefficients: ', coefficients, '\\n')\n",
        "\n",
        "# Predicting the Test set results\n",
        "y_pred <- predict(regressor, newdata = test_set)\n"
      ],
      "metadata": {
        "colab": {
          "base_uri": "https://localhost:8080/"
        },
        "id": "FiThydaToQAn",
        "outputId": "494b9cc1-d929-4ca6-9a7a-43acabf03ac2"
      },
      "execution_count": 6,
      "outputs": [
        {
          "output_type": "stream",
          "name": "stderr",
          "text": [
            "Installing package into ‘/usr/local/lib/R/site-library’\n",
            "(as ‘lib’ is unspecified)\n",
            "\n"
          ]
        },
        {
          "output_type": "stream",
          "name": "stdout",
          "text": [
            "Coefficient of Determination (R²):  0.9568878 \n",
            "Intercept:  28157.84 \n",
            "Coefficients:  0.8884486 0.0566959 0.02858616 -2860.859 9171.833 \n"
          ]
        }
      ]
    },
    {
      "cell_type": "code",
      "source": [
        "# Predicting the response on the Test set\n",
        "y_pred <- predict(regressor, newdata = test_set)\n",
        "\n",
        "# Visualizing the results\n",
        "plot(test_set$Profit, y_pred, main = 'Actual vs. Predicted Values',\n",
        "     xlab = 'Actual Profit', ylab = 'Predicted Profit', col = 'blue', pch = 16)\n",
        "abline(0, 1, col = 'red')\n"
      ],
      "metadata": {
        "colab": {
          "base_uri": "https://localhost:8080/",
          "height": 437
        },
        "id": "soxL9KTho0Up",
        "outputId": "b6f60980-c97b-4a0b-89fc-80d911028213"
      },
      "execution_count": 7,
      "outputs": [
        {
          "output_type": "display_data",
          "data": {
            "text/plain": [
              "Plot with title “Actual vs. Predicted Values”"
            ],
            "image/png": "[encoded data removed]"
          },
          "metadata": {
            "image/png": {
              "width": 420,
              "height": 420
            }
          }
        }
      ]
    },
    {
      "cell_type": "markdown",
      "source": [
        "Conclusion : Thus we have successfully performed multiple linear regression in python and R"
      ],
      "metadata": {
        "id": "z8GSmHI8o4pe"
      }
    }
  ]
}